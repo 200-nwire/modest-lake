
{
 "cells": [
  {
   "cell_type": "markdown",
   "metadata": {},
   "source": [
    "# Anomaly Detection on Network Data"
   ]
  },
  {
   "cell_type": "code",
   "execution_count": null,
   "metadata": {},
   "outputs": [],
   "source": [
    "from pyspark.sql import SparkSession
",
    "import seaborn as sns
",
    "import matplotlib.pyplot as plt
",
    "
",
    "# Initialize Spark session
",
    "spark = SparkSession.builder.appName('AnomalyDetection').getOrCreate()
",
    "
",
    "# Load data from Iceberg table
",
    "df = spark.sql('SELECT * FROM iceberg.silver.network_data')
",
    "
",
    "# Perform anomaly detection (example: outlier detection on bytes)
",
    "df_pd = df.toPandas()
",
    "sns.boxplot(data=df_pd, x='source_ip', y='total_bytes')
",
    "plt.show()"
   ]
  }
 ],
 "metadata": {
  "kernelspec": {
   "display_name": "Python 3",
   "language": "python",
   "name": "python3"
  }
 },
 "nbformat": 4,
 "nbformat_minor": 4
}
